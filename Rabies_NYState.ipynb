{
 "cells": [
  {
   "cell_type": "markdown",
   "id": "c200c0d5-95f2-40a9-a487-25f44e7864c1",
   "metadata": {},
   "source": [
    "# Welcome to this Dataset!"
   ]
  },
  {
   "cell_type": "markdown",
   "id": "a9727671-a5a6-4c68-85a9-5b7f00402780",
   "metadata": {},
   "source": [
    "### We are going to clean some data from Rabies submissions from NY Public Health!"
   ]
  },
  {
   "cell_type": "code",
   "execution_count": 65,
   "id": "6d807071-4b2c-4584-bae8-ca1eb076d719",
   "metadata": {},
   "outputs": [],
   "source": [
    "import pandas as pd"
   ]
  },
  {
   "cell_type": "code",
   "execution_count": 67,
   "id": "246f4dd7-7765-4835-8887-3f8821d21c72",
   "metadata": {},
   "outputs": [
    {
     "data": {
      "text/plain": [
       "'C:\\\\Users\\\\agunb\\\\Downloads'"
      ]
     },
     "execution_count": 67,
     "metadata": {},
     "output_type": "execute_result"
    }
   ],
   "source": [
    "import os\n",
    "os.getcwd()"
   ]
  },
  {
   "cell_type": "code",
   "execution_count": 69,
   "id": "c349a889-414a-42ff-857d-ae21bba31d82",
   "metadata": {},
   "outputs": [
    {
     "name": "stdout",
     "output_type": "stream",
     "text": [
      "   Received Year  Received Month Report Date County Name  \\\n",
      "0           2008              10  10/01/2008       Essex   \n",
      "1           2010               6  06/01/2010      Orange   \n",
      "2           2017              12  12/01/2017   Schoharie   \n",
      "3           2024               3  03/01/2024       Wayne   \n",
      "4           2020               9  09/01/2020    Saratoga   \n",
      "\n",
      "  Animal Classification  Number of Samples  Positive Samples  \\\n",
      "0               Raccoon                  1                 0   \n",
      "1                   Cat                  4                 1   \n",
      "2                   Bat                  1                 0   \n",
      "3               Raccoon                  1                 1   \n",
      "4                   Cat                  2                 0   \n",
      "\n",
      "   Latitude Center Point  Longitude Center Point                     Geocode  \n",
      "0               44.21634               -73.59043  POINT (-73.59043 44.21634)  \n",
      "1               41.40219               -74.32410   POINT (-74.3241 41.40219)  \n",
      "2               42.66587               -74.30988  POINT (-74.30988 42.66587)  \n",
      "3               43.06169               -76.99171  POINT (-76.99171 43.06169)  \n",
      "4               43.01060               -73.84956   POINT (-73.84956 43.0106)  \n"
     ]
    }
   ],
   "source": [
    "#Load the CSV file\n",
    "df = pd.read_csv(\"Rabies_NY_State_2007_2025.csv\")\n",
    "\n",
    "#Look at the first rows\n",
    "print(df.head())"
   ]
  },
  {
   "cell_type": "code",
   "execution_count": 71,
   "id": "c93a4073-cc2b-470f-9c48-5692dd9f950a",
   "metadata": {},
   "outputs": [
    {
     "name": "stdout",
     "output_type": "stream",
     "text": [
      "Index(['Received Year', 'Received Month', 'Date', 'County', 'Animal Type',\n",
      "       'Sample Size', 'Positive Samples', 'Latitude Center Point',\n",
      "       'Longitude Center Point', 'Geocode'],\n",
      "      dtype='object')\n"
     ]
    }
   ],
   "source": [
    "#Rename some columns\n",
    "df=df.rename(columns={\"County Name\":\"County\",\"Animal Classification\": \"Animal Type\", \"Number of Samples\":\"Sample Size\", \"Report Date\":\"Date\"})\n",
    "print(df.columns)"
   ]
  },
  {
   "cell_type": "code",
   "execution_count": 73,
   "id": "12d1fc55-fc81-4ec1-bbc1-b8917d786ed8",
   "metadata": {},
   "outputs": [],
   "source": [
    "#Drop some columns\n",
    "df= df.drop(columns=[\"Latitude Center Point\", \"Longitude Center Point\", \"Geocode\", \"Received Year\",\"Received Month\"])"
   ]
  },
  {
   "cell_type": "code",
   "execution_count": 75,
   "id": "3a4a5d2d-0706-40b6-8c37-3137cdb7ed32",
   "metadata": {},
   "outputs": [
    {
     "name": "stdout",
     "output_type": "stream",
     "text": [
      "        Date     County Animal Type  Sample Size  Positive Samples\n",
      "0 2008-10-01      Essex     Raccoon            1                 0\n",
      "1 2010-06-01     Orange         Cat            4                 1\n",
      "2 2017-12-01  Schoharie         Bat            1                 0\n",
      "3 2024-03-01      Wayne     Raccoon            1                 1\n",
      "4 2020-09-01   Saratoga         Cat            2                 0\n"
     ]
    }
   ],
   "source": [
    "#Convert Dates into proper format\n",
    "df['Date'] = pd.to_datetime(df['Date'], errors='coerce')\n",
    "print(df.head())"
   ]
  },
  {
   "cell_type": "code",
   "execution_count": 77,
   "id": "1cd9136c-1766-482c-af39-159da342b35f",
   "metadata": {},
   "outputs": [],
   "source": [
    "#Export to Excel\n",
    "df.to_excel(\"Rabies_NYState_clean.xlsx\", index= False)"
   ]
  }
 ],
 "metadata": {
  "kernelspec": {
   "display_name": "Python [conda env:base] *",
   "language": "python",
   "name": "conda-base-py"
  },
  "language_info": {
   "codemirror_mode": {
    "name": "ipython",
    "version": 3
   },
   "file_extension": ".py",
   "mimetype": "text/x-python",
   "name": "python",
   "nbconvert_exporter": "python",
   "pygments_lexer": "ipython3",
   "version": "3.12.7"
  }
 },
 "nbformat": 4,
 "nbformat_minor": 5
}
